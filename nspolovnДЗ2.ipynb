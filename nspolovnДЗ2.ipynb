{
 "cells": [
  {
   "cell_type": "markdown",
   "metadata": {},
   "source": [
    "# Базовая часть"
   ]
  },
  {
   "cell_type": "markdown",
   "metadata": {},
   "source": [
    "Рассмотрим задание 2 из лекции. При анализе отзывов на работу техподдержки вы считали массив из отзывов (для простоты отзыва приведено всего два, но могло быть и больше):"
   ]
  },
  {
   "cell_type": "code",
   "execution_count": 1,
   "metadata": {
    "collapsed": true
   },
   "outputs": [],
   "source": [
    "reviews = [\"\"\"Телефон абонента: +7 916 000 00 01\n",
    "Время: 10:34\n",
    "Дата: 20.05.2017\n",
    "Оценка: 1\n",
    "Длительность разговора (мин.): 0:32\n",
    "Комментарий: Общение с сотрудником вашей техподдержки мне не понравилось. Раньше всегда отвечала девушка с приятным голосом, а сегодня какой-то мужчина. Совсем никуда не годится, примите меры!!!\"\"\",\n",
    "\"\"\"Телефон абонента: +7 916 000 00 02\n",
    "Время: 9:20\n",
    "Дата: 21.05.2017\n",
    "Оценка: 5\n",
    "Длительность разговора (мин.): 25:07\n",
    "Комментарий: С моей проблемой мне помогли, большое спасибо!\"\"\"]"
   ]
  },
  {
   "cell_type": "markdown",
   "metadata": {},
   "source": [
    "Сформируйте на основе этого массива словарь my_base, в котором по ключу в виде строки с телефоном абонента будет храниться другой словарь. Внутренний словарь по ключам в виде названий полей отзыва должен хранить значение полей (в виде строк). Например, код ниже должен выдать True:"
   ]
  },
  {
   "cell_type": "code",
   "execution_count": null,
   "metadata": {
    "collapsed": true
   },
   "outputs": [],
   "source": [
    "my_base['+7 916 000 00 01']['Дата'] == '20.05.2017'"
   ]
  },
  {
   "cell_type": "markdown",
   "metadata": {},
   "source": [
    "Обратите внимание, что вам могут немного мешать пробелы после знаков \":\""
   ]
  },
  {
   "cell_type": "code",
   "execution_count": 2,
   "metadata": {
    "collapsed": false
   },
   "outputs": [
    {
     "name": "stdout",
     "output_type": "stream",
     "text": [
      "+7 916 000 00 02\n",
      "Оценка :  5  -  <type 'str'>\n",
      "Время :  9:20  -  <type 'str'>\n",
      "Комментарий :  С моей проблемой мне помогли, большое спасибо!  -  <type 'str'>\n",
      "Длительность разговора (мин.) :  25:07  -  <type 'str'>\n",
      "Телефон абонента :  +7 916 000 00 02  -  <type 'str'>\n",
      "Дата :  21.05.2017  -  <type 'str'>\n",
      "+7 916 000 00 01\n",
      "Оценка :  1  -  <type 'str'>\n",
      "Время :  10:34  -  <type 'str'>\n",
      "Комментарий :  Общение с сотрудником вашей техподдержки мне не понравилось. Раньше всегда отвечала девушка с приятным голосом, а сегодня какой-то мужчина. Совсем никуда не годится, примите меры!!!  -  <type 'str'>\n",
      "Длительность разговора (мин.) :  0:32  -  <type 'str'>\n",
      "Телефон абонента :  +7 916 000 00 01  -  <type 'str'>\n",
      "Дата :  20.05.2017  -  <type 'str'>\n"
     ]
    },
    {
     "data": {
      "text/plain": [
       "True"
      ]
     },
     "execution_count": 2,
     "metadata": {},
     "output_type": "execute_result"
    }
   ],
   "source": [
    "reviews = [\"\"\"Телефон абонента: +7 916 000 00 01\n",
    "Время: 10:34\n",
    "Дата: 20.05.2017\n",
    "Оценка: 1\n",
    "Длительность разговора (мин.): 0:32\n",
    "Комментарий: Общение с сотрудником вашей техподдержки мне не понравилось. Раньше всегда отвечала девушка с приятным голосом, а сегодня какой-то мужчина. Совсем никуда не годится, примите меры!!!\"\"\",\n",
    "\"\"\"Телефон абонента: +7 916 000 00 02\n",
    "Время: 9:20\n",
    "Дата: 21.05.2017\n",
    "Оценка: 5\n",
    "Длительность разговора (мин.): 25:07\n",
    "Комментарий: С моей проблемой мне помогли, большое спасибо!\"\"\"]\n",
    "\n",
    "my_base = {}\n",
    "\n",
    "for text in reviews:\n",
    "    tlf = {}\n",
    "    for line in text.split('\\n'):\n",
    "        if line:\n",
    "            splitted_line = line.split(': ')\n",
    "            field_name = splitted_line[0]\n",
    "            field_value = splitted_line[1]            \n",
    "            tlf[field_name]=field_value\n",
    "    my_base[tlf['Телефон абонента']] = tlf\n",
    "    \n",
    "                  \n",
    "    \n",
    "for key in my_base.keys():\n",
    "    print key\n",
    "    for key1, value1 in my_base[key].items():\n",
    "        print key1, ': ', value1,' - ', type(value1)      \n",
    "  \n",
    "my_base['+7 916 000 00 01']['Дата'] == '20.05.2017'   "
   ]
  },
  {
   "cell_type": "markdown",
   "metadata": {},
   "source": [
    "# Продвинутая часть"
   ]
  },
  {
   "cell_type": "markdown",
   "metadata": {},
   "source": [
    "Попробуйте выполнить предыдущее задание, но теперь обеспечив хранение полей из отзыва в словаре в тех типах данных, которые на ваш взгляд наиболее уместны. Подумайте, что делать с датой и временем. Возможно вам покажется полезным немного воспользоваться поисковиком или документацией к Python, а может быть вам хватит стандартных типов данных.\n",
    "Объясните свой выбор в комментариях к коду или markdown ячейках и продемонстрируйте, что поля имеют нужный тип."
   ]
  },
  {
   "cell_type": "code",
   "execution_count": 3,
   "metadata": {
    "collapsed": false
   },
   "outputs": [
    {
     "name": "stdout",
     "output_type": "stream",
     "text": [
      "+7 916 000 00 02\n",
      "Оценка :  5  -  <type 'int'>\n",
      "Время :  1900-01-01 09:20:00  -  <type 'datetime.datetime'>\n",
      "Комментарий :  С моей проблемой мне помогли, большое спасибо!  -  <type 'str'>\n",
      "Длительность разговора (мин.) :  1900-01-01 00:25:07  -  <type 'datetime.datetime'>\n",
      "Телефон абонента :  79160000002  -  <type 'long'>\n",
      "Дата :  2017-05-21 00:00:00  -  <type 'datetime.datetime'>\n",
      "+7 916 000 00 01\n",
      "Оценка :  1  -  <type 'int'>\n",
      "Время :  1900-01-01 10:34:00  -  <type 'datetime.datetime'>\n",
      "Комментарий :  Общение с сотрудником вашей техподдержки мне не понравилось. Раньше всегда отвечала девушка с приятным голосом, а сегодня какой-то мужчина. Совсем никуда не годится, примите меры!!!  -  <type 'str'>\n",
      "Длительность разговора (мин.) :  1900-01-01 00:00:32  -  <type 'datetime.datetime'>\n",
      "Телефон абонента :  79160000001  -  <type 'long'>\n",
      "Дата :  2017-05-20 00:00:00  -  <type 'datetime.datetime'>\n"
     ]
    }
   ],
   "source": [
    "from datetime import datetime\n",
    "\n",
    "reviews = [\"\"\"Телефон абонента: +7 916 000 00 01\n",
    "Время: 10:34\n",
    "Дата: 20.05.2017\n",
    "Оценка: 1\n",
    "Длительность разговора (мин.): 0:32\n",
    "Комментарий: Общение с сотрудником вашей техподдержки мне не понравилось. Раньше всегда отвечала девушка с приятным голосом, а сегодня какой-то мужчина. Совсем никуда не годится, примите меры!!!\"\"\",\n",
    "\"\"\"Телефон абонента: +7 916 000 00 02\n",
    "Время: 9:20\n",
    "Дата: 21.05.2017\n",
    "Оценка: 5\n",
    "Длительность разговора (мин.): 25:07\n",
    "Комментарий: С моей проблемой мне помогли, большое спасибо!\"\"\"]\n",
    "\n",
    "\n",
    "my_base = {}\n",
    "\n",
    "for text in reviews:\n",
    "    tlf = {}\n",
    "    for line in text.split('\\n'):\n",
    "        if line:\n",
    "            splitted_line = line.split(': ')\n",
    "            field_name = splitted_line[0]\n",
    "            field_value = splitted_line[1] \n",
    "            tlf[field_name]=field_value            \n",
    "    my_base[tlf['Телефон абонента']] = tlf            \n",
    "                  \n",
    "# меняем типы\n",
    "for key in my_base.keys():\n",
    "    for key1, value1 in my_base[key].items():\n",
    "        if key1 == 'Оценка':\n",
    "            my_base[key][key1] = int(value1)\n",
    "        elif key1 == 'Телефон абонента':\n",
    "            my_base[key][key1] = int(value1.replace(' ',''))              \n",
    "        elif key1 == 'Дата':\n",
    "            my_base[key][key1] = datetime.strptime(value1, '%d.%m.%Y')             \n",
    "        elif key1 == 'Время':\n",
    "            my_base[key][key1] = datetime.strptime(value1, '%H:%M')  \n",
    "        elif key1 == 'Длительность разговора (мин.)':\n",
    "            my_base[key][key1] = datetime.strptime(value1, '%M:%S')              \n",
    "               \n",
    "\n",
    "for key in my_base.keys():\n",
    "    print key\n",
    "    for key1, value1 in my_base[key].items():\n",
    "        print key1, ': ', value1,' - ', type(value1)        \n",
    "      \n",
    "        "
   ]
  },
  {
   "cell_type": "markdown",
   "metadata": {},
   "source": [
    "# Сложная часть"
   ]
  },
  {
   "cell_type": "markdown",
   "metadata": {},
   "source": [
    "На лекции было рассказано про неизменяемые типы, в частности про tuple. Подумайте, можно ли \"сломать\" неизменяемость tuple? Как сделать tuple изменяемым? Можно ли будет его добавить в множество или использовать в качестве ключа в словаре?"
   ]
  },
  {
   "cell_type": "code",
   "execution_count": 4,
   "metadata": {
    "collapsed": false
   },
   "outputs": [
    {
     "name": "stdout",
     "output_type": "stream",
     "text": [
      "('Ivan Ivanovich', 'Medium', 500000, 12, True)\n",
      "<type 'tuple'>\n",
      "('Ivan Ivanovich', 'Medium', 500000, 12, True, 'one more element')\n",
      "<type 'tuple'>\n"
     ]
    }
   ],
   "source": [
    "# Изменене элементов - вариант 1\n",
    "features_tuple = ('Ivan Ivanovich', 'Medium', 500000, 12, True)\n",
    "print features_tuple\n",
    "print type(features_tuple)\n",
    "features_list = list(features_tuple)\n",
    "features_list.append('one more element')\n",
    "features_tuple = tuple(features_list)\n",
    "print features_tuple\n",
    "print type(features_tuple)\n",
    "\n"
   ]
  },
  {
   "cell_type": "code",
   "execution_count": 5,
   "metadata": {
    "collapsed": false
   },
   "outputs": [
    {
     "name": "stdout",
     "output_type": "stream",
     "text": [
      "(['Ivan Ivanovich'], ['Medium'], [500000, 12, True])\n",
      "<type 'tuple'>\n",
      "(['NEW Ivan Ivanovich'], ['Medium'], [500000, 12, True])\n",
      "<type 'tuple'>\n"
     ]
    }
   ],
   "source": [
    "# Изменене элементов - вариант 2\n",
    "features_tuple = (['Ivan Ivanovich'], ['Medium'], [500000, 12, True])\n",
    "print features_tuple\n",
    "print type(features_tuple)\n",
    "features_tuple[0][0] = 'NEW Ivan Ivanovich'\n",
    "print features_tuple\n",
    "print type(features_tuple)"
   ]
  },
  {
   "cell_type": "code",
   "execution_count": 6,
   "metadata": {
    "collapsed": false
   },
   "outputs": [
    {
     "name": "stdout",
     "output_type": "stream",
     "text": [
      "('Ivan Ivanovich', 'Medium', 500000, 12, True)\n",
      "<type 'tuple'>\n",
      "('Ivan Ivanovich', 'Medium', 500000, 12, True, 'New')\n",
      "<type 'tuple'>\n"
     ]
    }
   ],
   "source": [
    "# Добавление элементов\n",
    "features_tuple = ('Ivan Ivanovich', 'Medium', 500000,12, True)\n",
    "print features_tuple\n",
    "print type(features_tuple)\n",
    "features_tuple =features_tuple  + ('New',)\n",
    "print features_tuple\n",
    "print type(features_tuple)\n"
   ]
  },
  {
   "cell_type": "code",
   "execution_count": 7,
   "metadata": {
    "collapsed": false
   },
   "outputs": [
    {
     "name": "stdout",
     "output_type": "stream",
     "text": [
      "('Ivan Ivanovich', 'Medium', 500000, 12, True)\n",
      "<type 'tuple'>\n",
      "('Ivan Ivanovich', 'Medium', 500000, 12)\n",
      "<type 'tuple'>\n",
      "('Medium', 500000, 12)\n",
      "<type 'tuple'>\n"
     ]
    }
   ],
   "source": [
    "# Удаление элементов\n",
    "features_tuple = ('Ivan Ivanovich', 'Medium', 500000,12, True)\n",
    "print features_tuple\n",
    "print type(features_tuple)\n",
    "features_tuple =tuple(features_tuple[0:4]) \n",
    "print features_tuple\n",
    "print type(features_tuple)\n",
    "features_tuple =tuple(features_tuple[1:]) \n",
    "print features_tuple\n",
    "print type(features_tuple)\n"
   ]
  },
  {
   "cell_type": "code",
   "execution_count": 8,
   "metadata": {
    "collapsed": false
   },
   "outputs": [
    {
     "name": "stdout",
     "output_type": "stream",
     "text": [
      "{('Ivan Ivanovich', 'Medium', 500000, 12, True): '123'}\n"
     ]
    }
   ],
   "source": [
    "features_tuple = ('Ivan Ivanovich', 'Medium', 500000,12, True)\n",
    "\n",
    "new_dict = dict()\n",
    "\n",
    "new_dict[features_tuple]=\"123\"\n",
    "\n",
    "print(new_dict)"
   ]
  },
  {
   "cell_type": "code",
   "execution_count": null,
   "metadata": {
    "collapsed": true
   },
   "outputs": [],
   "source": []
  }
 ],
 "metadata": {
  "anaconda-cloud": {},
  "kernelspec": {
   "display_name": "Python 2",
   "language": "python",
   "name": "python2"
  },
  "language_info": {
   "codemirror_mode": {
    "name": "ipython",
    "version": 2
   },
   "file_extension": ".py",
   "mimetype": "text/x-python",
   "name": "python",
   "nbconvert_exporter": "python",
   "pygments_lexer": "ipython2",
   "version": "2.7.13"
  }
 },
 "nbformat": 4,
 "nbformat_minor": 1
}
